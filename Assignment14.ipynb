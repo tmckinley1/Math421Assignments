{
 "cells": [
  {
   "cell_type": "code",
   "execution_count": 1,
   "metadata": {},
   "outputs": [],
   "source": [
    "quick_clean = function(x,i)\n",
    "{\n",
    "  if (i==0)\n",
    "  {\n",
    "    x = x[complete.cases(x), ]\n",
    "  }\n",
    "  if(i==1)\n",
    "  {\n",
    "    checkcol = function(y)\n",
    "    {\n",
    "      if(is.numeric(y) == TRUE)\n",
    "      {\n",
    "        y[is.na(y)] = mean(y, na.rm = TRUE)\n",
    "      }\n",
    "      else\n",
    "      {\n",
    "        levels=unique(y)\n",
    "        y[is.na(y)]=levels[which.max(tabulate(match(y, x = levels)))]\n",
    "      }\n",
    "      return(y)\n",
    "    }\n",
    "    x = data.frame(lapply(x, checkcol))\n",
    "    return(x)\n",
    "  }\n",
    "}\n"
   ]
  },
  {
   "cell_type": "code",
   "execution_count": 2,
   "metadata": {},
   "outputs": [],
   "source": [
    "quick_visual = function(x, task)\n",
    "{\n",
    "  library(ggplot2)\n",
    "  if(is.data.frame(x)& task == 1){\n",
    "    x_factors <- x[,sapply(x, is.factor)]\n",
    "\n",
    "    cat_5 <- function(x)\n",
    "    {\n",
    "      l <- (length(unique(x)) < 5)\n",
    "      return(l)\n",
    "    }\n",
    "    x_factors5 <- x_factors[,sapply(x_factors, cat_5)]\n",
    "\n",
    "    combinations <- combn(names(x_factors5), 2, simplify=TRUE)\n",
    "\n",
    "    bar.charts <- function(d) {\n",
    "      chart <- ggplot(d) +\n",
    "        geom_bar(mapping = aes(x=d[,1], fill-d[,2]), position = \"dodge\") +\n",
    "        xlab(names(d[2])) +\n",
    "        labs(fill = names(d[2]))\n",
    "      return(chart)\n",
    "    }\n",
    "    c <- function(x)\n",
    "    {\n",
    "      bar.charts(x_factors5[,x])\n",
    "    }\n",
    "    charts <- apply(combinations, 2, c)\n",
    "    return(charts)\n",
    "  } else if (is.data.frame(x) & task == 3) {\n",
    "    x_numerics <- x[,sapply(x, is.numeric)]\n",
    "\n",
    "    x_numerics5 <- x_numerics[,sapply(x_factors, cat_5)]\n",
    "    combinations2 <- combn(names(x_numerics5), 2, simplify=TRUE)\n",
    "\n",
    "    scatter.plots <- function(e) {\n",
    "      plot <- ggplot(e)+\n",
    "        geom_point(mapping = aes(x = x[,1], y = x[,2]))\n",
    "      return(plot)\n",
    "    }\n",
    "    g <- function(x)\n",
    "    {\n",
    "      scatter.plots (x_numerics5[,x])\n",
    "    }\n",
    "    plots <- apply(combinations2, 2, g)\n",
    "    return(plots)\n",
    "  } else if (is.data.frame(x) & task == 2) {\n",
    "    density.curves <- function(h) {\n",
    "      curve <- ggplot(h) +\n",
    "        geom_density(mapping = aes(x= x[,1], fill = x[,2]))\n",
    "           return(curve)\n",
    "    }\n",
    "    y <- function(x)\n",
    "    {\n",
    "      density.curves(x_numerics5[,x])\n",
    "    }\n",
    "    curves <- apply(combinations2, 2, y)\n",
    "    return(curves)\n",
    "  }\n",
    "}\n"
   ]
  },
  {
   "cell_type": "code",
   "execution_count": 3,
   "metadata": {},
   "outputs": [
    {
     "name": "stderr",
     "output_type": "stream",
     "text": [
      "Loading required package: lattice\n",
      "Loading required package: ggplot2\n"
     ]
    },
    {
     "ename": "ERROR",
     "evalue": "Error in createDataPartition(x$target, p = 0.7, list = FALSE, times = 1): object 'x' not found\n",
     "execution_count": 3,
     "output_type": "error",
     "traceback": [
      "Error in createDataPartition(x$target, p = 0.7, list = FALSE, times = 1): object 'x' not found\nTraceback:\n",
      "1. quick_model(x)",
      "2. createDataPartition(x$target, p = 0.7, list = FALSE, times = 1)   # at line 7 of file <text>"
     ]
    }
   ],
   "source": [
    "\n",
    "quick_model <- function(x) {\n",
    "\n",
    "library(ranger)\n",
    "library(caret)\n",
    "\n",
    "splitIndex <- createDataPartition(x$target, p = .70, list = FALSE, times = 1)\n",
    "train1 <- x[ splitIndex,]\n",
    "test1 <- x[-splitIndex,]\n",
    "set.seed(2018)\n",
    "\n",
    "\n",
    "model = ranger(target ~., data = train1)\n",
    "pred3  = predict(model, data = test1)$predictions\n",
    "cm3 = confusionMatrix(pred3, test1$target, positive= \"1\")\n",
    "return(1-cm3$overall[1])\n",
    "\n",
    "}\n",
    "quick_model(x)\n",
    "\n",
    "\n",
    "\n"
   ]
  },
  {
   "cell_type": "code",
   "execution_count": null,
   "metadata": {},
   "outputs": [],
   "source": []
  }
 ],
 "metadata": {
  "kernelspec": {
   "display_name": "R",
   "language": "R",
   "name": "ir"
  },
  "language_info": {
   "codemirror_mode": "r",
   "file_extension": ".r",
   "mimetype": "text/x-r-source",
   "name": "R",
   "pygments_lexer": "r",
   "version": "3.5.1"
  }
 },
 "nbformat": 4,
 "nbformat_minor": 2
}
